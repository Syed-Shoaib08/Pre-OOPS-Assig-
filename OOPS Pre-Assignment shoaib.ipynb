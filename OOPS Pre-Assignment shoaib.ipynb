{
 "cells": [
  {
   "cell_type": "code",
   "execution_count": 1,
   "id": "c51013fa-8ba3-406b-8a36-85be7877bc53",
   "metadata": {},
   "outputs": [],
   "source": [
    "#Q1, Create a vehicle class with an init method having instance variables as name_of_vehicle, max_speed and average_of_vehicle."
   ]
  },
  {
   "cell_type": "code",
   "execution_count": 18,
   "id": "66394377-4d41-4e54-b77f-099adabd77f2",
   "metadata": {},
   "outputs": [],
   "source": [
    "class vehicle:\n",
    "    def __init__(self, name_of_vehicle, max_speed, avg_of_vehicle):\n",
    "        self.name_of_vehicle=name_of_vehicle\n",
    "        self.max_speed=max_speed\n",
    "        self.avg_of_vehicle=avg_of_vehicle\n",
    "    \n",
    "    def get_details(self):\n",
    "        print(self.name_of_vehicle, self.max_speed, self.avg_of_vehicle)"
   ]
  },
  {
   "cell_type": "code",
   "execution_count": 19,
   "id": "7c592611-906d-4260-b9da-f51e4ba848cf",
   "metadata": {},
   "outputs": [],
   "source": [
    "pwcar=vehicle('BMW', 440, 35)"
   ]
  },
  {
   "cell_type": "code",
   "execution_count": 20,
   "id": "e611da95-c0e9-4d04-aedc-781c915efd0b",
   "metadata": {},
   "outputs": [
    {
     "name": "stdout",
     "output_type": "stream",
     "text": [
      "BMW 440 35\n"
     ]
    }
   ],
   "source": [
    "pwcar.get_details()"
   ]
  },
  {
   "cell_type": "code",
   "execution_count": null,
   "id": "e067f21f-3dfe-44fc-af01-16d7a92c536f",
   "metadata": {},
   "outputs": [],
   "source": []
  },
  {
   "cell_type": "code",
   "execution_count": 1,
   "id": "ed289389-637e-48eb-b0c7-b9c20978f627",
   "metadata": {},
   "outputs": [],
   "source": [
    "#Q2. Create a child class car from the vehicle class created in Que 1, which will inherit the vehicle class.Create a method named seating_capacity which takes capacity as an argument and returns the name of the vehicle and its seating capacity."
   ]
  },
  {
   "cell_type": "code",
   "execution_count": 27,
   "id": "ae203611-eac6-4eae-9166-6a4b53847368",
   "metadata": {},
   "outputs": [],
   "source": [
    "class vehicle:\n",
    "    def __init__(self,name,capacity):\n",
    "        self.name=name\n",
    "        self.capacity=capacity\n",
    "    def get_details(self):\n",
    "        print(self.name, 'has the seating capacity of' ,  self.capacity )"
   ]
  },
  {
   "cell_type": "code",
   "execution_count": 28,
   "id": "9cf992d6-7655-407d-94b7-11fe6bf64135",
   "metadata": {},
   "outputs": [],
   "source": [
    "class car(vehicle):\n",
    "    pass"
   ]
  },
  {
   "cell_type": "code",
   "execution_count": 31,
   "id": "a81f0fc3-d3dd-4d0a-a8ec-bb6e0537a125",
   "metadata": {},
   "outputs": [],
   "source": [
    "car_details=car('Mercedes-Benz A-Class', 5)"
   ]
  },
  {
   "cell_type": "code",
   "execution_count": 32,
   "id": "017376c3-c910-4581-abe1-6dcfa6fc8e23",
   "metadata": {},
   "outputs": [
    {
     "name": "stdout",
     "output_type": "stream",
     "text": [
      "Mercedes-Benz A-Class has the seating capacity of 5\n"
     ]
    }
   ],
   "source": [
    "car_details.get_details()"
   ]
  },
  {
   "cell_type": "code",
   "execution_count": null,
   "id": "a2bbd7d9-9eb8-4940-98b1-27cec1ea5d08",
   "metadata": {},
   "outputs": [],
   "source": []
  },
  {
   "cell_type": "code",
   "execution_count": 33,
   "id": "6c5d3022-0bf3-4a78-ac11-ec832967ebcb",
   "metadata": {},
   "outputs": [],
   "source": [
    "#Q3. What is multiple inheritance? Write a python code to demonstrate multiple inheritance."
   ]
  },
  {
   "cell_type": "code",
   "execution_count": 34,
   "id": "81bee4fe-211a-4b27-b4ab-4c322cc73e54",
   "metadata": {},
   "outputs": [],
   "source": [
    "#A) Multiple Inheritance allows us to create a new class that has all the features of two or more base classes. This means that we can create a new class that has all the methods and properties of both the base classes"
   ]
  },
  {
   "cell_type": "code",
   "execution_count": 11,
   "id": "abd98a4d-ffe2-4e26-bc45-b164d05f5e4f",
   "metadata": {},
   "outputs": [],
   "source": [
    "class math:\n",
    "    def math_class(self):\n",
    "        return 'This is my math class'"
   ]
  },
  {
   "cell_type": "code",
   "execution_count": 12,
   "id": "1c1dadd4-b744-417f-8221-9cfda829edd3",
   "metadata": {},
   "outputs": [],
   "source": [
    "class science:\n",
    "    def science_class(self):\n",
    "        return 'This is my science class'"
   ]
  },
  {
   "cell_type": "code",
   "execution_count": 13,
   "id": "4b15cca3-9e9e-465a-818b-2bc1125317f3",
   "metadata": {},
   "outputs": [],
   "source": [
    "class class_access(math, science):\n",
    "    pass"
   ]
  },
  {
   "cell_type": "code",
   "execution_count": 14,
   "id": "aa50b58e-18fe-45f6-bacc-16bbfa85683e",
   "metadata": {},
   "outputs": [],
   "source": [
    "school=class_access()"
   ]
  },
  {
   "cell_type": "code",
   "execution_count": 15,
   "id": "10552f20-94a1-489d-bed4-e1010ef88d09",
   "metadata": {},
   "outputs": [
    {
     "data": {
      "text/plain": [
       "'This is my math class'"
      ]
     },
     "execution_count": 15,
     "metadata": {},
     "output_type": "execute_result"
    }
   ],
   "source": [
    "school.math_class()"
   ]
  },
  {
   "cell_type": "code",
   "execution_count": 16,
   "id": "9a000042-3bd5-414f-9f5b-91c3ef5819f8",
   "metadata": {},
   "outputs": [
    {
     "data": {
      "text/plain": [
       "'This is my science class'"
      ]
     },
     "execution_count": 16,
     "metadata": {},
     "output_type": "execute_result"
    }
   ],
   "source": [
    "school.science_class()"
   ]
  },
  {
   "cell_type": "code",
   "execution_count": null,
   "id": "18adf01d-c3c2-4738-b839-e5217c671789",
   "metadata": {},
   "outputs": [],
   "source": []
  },
  {
   "cell_type": "code",
   "execution_count": 17,
   "id": "e8340c2c-f895-4cfb-b886-f0d26a25263b",
   "metadata": {},
   "outputs": [],
   "source": [
    "#Q4. What are getter and setter in python? Create a class and create a getter and a setter method in this class."
   ]
  },
  {
   "cell_type": "code",
   "execution_count": 18,
   "id": "519b6d3a-e985-4dc6-b72e-ebe2786ecf06",
   "metadata": {},
   "outputs": [],
   "source": [
    "#Getter and setter in Python are methods that allow you to control the access and modification of attributes of a class. They are often used to add validation logic or ensure data encapsulation. In Python, we can use the @property decorator to create getters and setters in a Pythonic way"
   ]
  },
  {
   "cell_type": "code",
   "execution_count": 27,
   "id": "89b56461-be6a-4b14-8a6c-0aa68224aaa2",
   "metadata": {},
   "outputs": [],
   "source": [
    "class Person:\n",
    "    def __init__(self, name, age):\n",
    "        self.name = name\n",
    "        self._age = age # _age is a private attribute\n",
    "\n",
    "    @property\n",
    "    def age(self): # age is a getter method\n",
    "        return self._age\n",
    "\n",
    "    @age.setter\n",
    "    def age(self, value): # age is a setter method\n",
    "        if value < 0:\n",
    "            print(\"age can't be negative\")\n",
    "        else:\n",
    "            self._age = value"
   ]
  },
  {
   "cell_type": "code",
   "execution_count": 28,
   "id": "209da739-9019-40b0-8d40-536eb53ee6e8",
   "metadata": {},
   "outputs": [
    {
     "name": "stdout",
     "output_type": "stream",
     "text": [
      "25\n"
     ]
    }
   ],
   "source": [
    "p1 = Person(\"Alice\", 25)\n",
    "print(p1.age)"
   ]
  },
  {
   "cell_type": "code",
   "execution_count": 29,
   "id": "5885fcde-5b00-4ad9-8911-d82c1c967273",
   "metadata": {},
   "outputs": [
    {
     "name": "stdout",
     "output_type": "stream",
     "text": [
      "age can't be negative\n"
     ]
    }
   ],
   "source": [
    "p1.age = -10"
   ]
  },
  {
   "cell_type": "code",
   "execution_count": null,
   "id": "b9556b83-8a64-4967-b9b2-69cbbadd63bf",
   "metadata": {},
   "outputs": [],
   "source": []
  },
  {
   "cell_type": "code",
   "execution_count": 30,
   "id": "ed943d80-7951-4c55-8bf2-91b39127c645",
   "metadata": {},
   "outputs": [],
   "source": [
    "#Q5.What is method overriding in python? Write a python code to demonstrate method overriding."
   ]
  },
  {
   "cell_type": "code",
   "execution_count": 31,
   "id": "08433c84-a07b-4005-802b-cc0dea0e25dc",
   "metadata": {},
   "outputs": [],
   "source": [
    "# Method overriding in Python is an OOPs concept that allows a child class to provide a specific implementation of a method that is already provided by the parent class. It is used to change the behavior of existing methods and it is an example of runtime polymorphism. Method overriding requires inheritance and the child class method should have the same name, parameters and return type as the parent class method"
   ]
  },
  {
   "cell_type": "code",
   "execution_count": 32,
   "id": "97d0e8e5-2f76-4c8b-94c8-60835c0988f4",
   "metadata": {},
   "outputs": [],
   "source": [
    "#In simple terms, method overriding in Python means that a child class can change how a method works compared to the parent class. For example, if the parent class has a method called sound that prints “Animal makes a sound”, the child class can override this method and print something else, like “Dog barks” or “Cat meows”."
   ]
  },
  {
   "cell_type": "code",
   "execution_count": 33,
   "id": "d1cc52ff-23db-4c96-a804-751f77a53265",
   "metadata": {},
   "outputs": [
    {
     "name": "stdout",
     "output_type": "stream",
     "text": [
      "Animal makes a sound\n",
      "Dog barks\n",
      "Cat meows\n"
     ]
    }
   ],
   "source": [
    "class Animal: \n",
    "    def sound(self):\n",
    "        print(\"Animal makes a sound\")\n",
    "\n",
    "class Dog(Animal): \n",
    "    def sound(self): \n",
    "        print(\"Dog barks\")\n",
    "\n",
    "class Cat(Animal):\n",
    "    def sound(self): \n",
    "        print(\"Cat meows\")\n",
    "\n",
    "a1 = Animal()\n",
    "a1.sound() \n",
    "\n",
    "d1 = Dog()\n",
    "d1.sound()\n",
    "\n",
    "c1 = Cat()\n",
    "c1.sound() "
   ]
  },
  {
   "cell_type": "code",
   "execution_count": null,
   "id": "4ea82b6a-61d6-4126-a153-7b95345b0034",
   "metadata": {},
   "outputs": [],
   "source": []
  },
  {
   "cell_type": "code",
   "execution_count": null,
   "id": "0ef96d20-1fcd-422e-b552-0950fe736f10",
   "metadata": {},
   "outputs": [],
   "source": []
  }
 ],
 "metadata": {
  "kernelspec": {
   "display_name": "Python 3 (ipykernel)",
   "language": "python",
   "name": "python3"
  },
  "language_info": {
   "codemirror_mode": {
    "name": "ipython",
    "version": 3
   },
   "file_extension": ".py",
   "mimetype": "text/x-python",
   "name": "python",
   "nbconvert_exporter": "python",
   "pygments_lexer": "ipython3",
   "version": "3.10.8"
  }
 },
 "nbformat": 4,
 "nbformat_minor": 5
}
